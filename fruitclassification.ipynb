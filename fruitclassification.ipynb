{
 "cells": [
  {
   "cell_type": "code",
   "execution_count": 2,
   "id": "a5ae9ee9",
   "metadata": {},
   "outputs": [],
   "source": [
    "import numpy as np\n",
    "import tensorflow as tf\n",
    "from tensorflow.keras.preprocessing.image import ImageDataGenerator"
   ]
  },
  {
   "cell_type": "code",
   "execution_count": 3,
   "id": "585dea47",
   "metadata": {},
   "outputs": [],
   "source": [
    "train_datagen = ImageDataGenerator(\n",
    "        rescale=1./255,\n",
    "        shear_range=0.2,\n",
    "        zoom_range=0.2,\n",
    "        horizontal_flip=True)"
   ]
  },
  {
   "cell_type": "code",
   "execution_count": 4,
   "id": "5710a06a",
   "metadata": {},
   "outputs": [
    {
     "name": "stdout",
     "output_type": "stream",
     "text": [
      "Found 2173 images belonging to 5 classes.\n"
     ]
    }
   ],
   "source": [
    "training_set = train_datagen.flow_from_directory(\n",
    "        'training_set',\n",
    "        target_size=(64, 64),\n",
    "        batch_size=32,\n",
    "        class_mode='categorical')"
   ]
  },
  {
   "cell_type": "code",
   "execution_count": 5,
   "id": "e8b88574",
   "metadata": {},
   "outputs": [
    {
     "name": "stdout",
     "output_type": "stream",
     "text": [
      "Found 781 images belonging to 5 classes.\n"
     ]
    }
   ],
   "source": [
    "test_datagen = ImageDataGenerator(rescale=1./255)\n",
    "test_set = test_datagen.flow_from_directory(\n",
    "        'test_set',\n",
    "        target_size=(64, 64),\n",
    "        batch_size=32,\n",
    "        class_mode='categorical')"
   ]
  },
  {
   "cell_type": "code",
   "execution_count": 6,
   "id": "b89e5513",
   "metadata": {},
   "outputs": [],
   "source": [
    "cnn = tf.keras.models.Sequential()"
   ]
  },
  {
   "cell_type": "code",
   "execution_count": 7,
   "id": "24bcf412",
   "metadata": {},
   "outputs": [],
   "source": [
    "cnn.add(tf.keras.layers.Conv2D(filters=64 , kernel_size=3 , activation='relu' , input_shape=[64,64,3]))\n",
    "cnn.add(tf.keras.layers.MaxPool2D(pool_size=2,strides=2))\n"
   ]
  },
  {
   "cell_type": "code",
   "execution_count": 8,
   "id": "d3561c4e",
   "metadata": {},
   "outputs": [],
   "source": [
    "cnn.add(tf.keras.layers.Conv2D(filters=64 , kernel_size=3 , activation='relu' ))\n",
    "cnn.add(tf.keras.layers.MaxPool2D(pool_size=2 , strides=2))"
   ]
  },
  {
   "cell_type": "code",
   "execution_count": 9,
   "id": "e2f3a272",
   "metadata": {},
   "outputs": [],
   "source": [
    "cnn.add(tf.keras.layers.Dropout(0.5))"
   ]
  },
  {
   "cell_type": "code",
   "execution_count": 10,
   "id": "fda6c706",
   "metadata": {},
   "outputs": [],
   "source": [
    "cnn.add(tf.keras.layers.Flatten())"
   ]
  },
  {
   "cell_type": "code",
   "execution_count": 11,
   "id": "12dfd312",
   "metadata": {},
   "outputs": [],
   "source": [
    "cnn.add(tf.keras.layers.Dense(units=128, activation='relu'))"
   ]
  },
  {
   "cell_type": "code",
   "execution_count": 12,
   "id": "190c4ecb",
   "metadata": {},
   "outputs": [],
   "source": [
    "cnn.add(tf.keras.layers.Dense(units=5 , activation='softmax'))"
   ]
  },
  {
   "cell_type": "code",
   "execution_count": 13,
   "id": "03f24fb8",
   "metadata": {},
   "outputs": [],
   "source": [
    "cnn.compile(optimizer = 'rmsprop' , loss = 'categorical_crossentropy' , metrics = ['accuracy'])"
   ]
  },
  {
   "cell_type": "code",
   "execution_count": 14,
   "id": "dba1403d",
   "metadata": {},
   "outputs": [
    {
     "name": "stdout",
     "output_type": "stream",
     "text": [
      "Epoch 1/30\n",
      "68/68 [==============================] - 34s 494ms/step - loss: 0.5707 - accuracy: 0.7892 - val_loss: 0.0554 - val_accuracy: 1.0000\n",
      "Epoch 2/30\n",
      "68/68 [==============================] - 14s 208ms/step - loss: 0.1069 - accuracy: 0.9673 - val_loss: 0.0018 - val_accuracy: 1.0000\n",
      "Epoch 3/30\n",
      "68/68 [==============================] - 14s 209ms/step - loss: 0.1545 - accuracy: 0.9880 - val_loss: 0.0082 - val_accuracy: 1.0000\n",
      "Epoch 4/30\n",
      "68/68 [==============================] - 14s 209ms/step - loss: 0.1009 - accuracy: 0.9890 - val_loss: 0.0011 - val_accuracy: 1.0000\n",
      "Epoch 5/30\n",
      "68/68 [==============================] - 15s 215ms/step - loss: 0.1213 - accuracy: 0.9830 - val_loss: 2.5155e-04 - val_accuracy: 1.0000\n",
      "Epoch 6/30\n",
      "68/68 [==============================] - 14s 206ms/step - loss: 0.1302 - accuracy: 0.9871 - val_loss: 0.0036 - val_accuracy: 1.0000\n",
      "Epoch 7/30\n",
      "68/68 [==============================] - 14s 207ms/step - loss: 0.0013 - accuracy: 1.0000 - val_loss: 6.8466e-05 - val_accuracy: 1.0000\n",
      "Epoch 8/30\n",
      "68/68 [==============================] - 14s 208ms/step - loss: 1.4257e-05 - accuracy: 1.0000 - val_loss: 0.2655 - val_accuracy: 0.9117\n",
      "Epoch 9/30\n",
      "68/68 [==============================] - 14s 208ms/step - loss: 0.1133 - accuracy: 0.9880 - val_loss: 7.4570e-05 - val_accuracy: 1.0000\n",
      "Epoch 10/30\n",
      "68/68 [==============================] - 14s 212ms/step - loss: 0.0872 - accuracy: 0.9917 - val_loss: 0.8028 - val_accuracy: 0.7337\n",
      "Epoch 11/30\n",
      "68/68 [==============================] - 14s 207ms/step - loss: 0.0052 - accuracy: 0.9986 - val_loss: 4.3872e-05 - val_accuracy: 1.0000\n",
      "Epoch 12/30\n",
      "68/68 [==============================] - 14s 207ms/step - loss: 0.1368 - accuracy: 0.9867 - val_loss: 1.7463e-04 - val_accuracy: 1.0000\n",
      "Epoch 13/30\n",
      "68/68 [==============================] - 14s 207ms/step - loss: 3.9410e-05 - accuracy: 1.0000 - val_loss: 7.9733e-06 - val_accuracy: 1.0000\n",
      "Epoch 14/30\n",
      "68/68 [==============================] - 15s 223ms/step - loss: 0.1839 - accuracy: 0.9770 - val_loss: 2.4411e-04 - val_accuracy: 1.0000\n",
      "Epoch 15/30\n",
      "68/68 [==============================] - 14s 207ms/step - loss: 4.5110e-05 - accuracy: 1.0000 - val_loss: 4.2883e-06 - val_accuracy: 1.0000\n",
      "Epoch 16/30\n",
      "68/68 [==============================] - 14s 207ms/step - loss: 0.1666 - accuracy: 0.9890 - val_loss: 2.1142e-04 - val_accuracy: 1.0000\n",
      "Epoch 17/30\n",
      "68/68 [==============================] - 14s 207ms/step - loss: 1.4459e-05 - accuracy: 1.0000 - val_loss: 1.7034e-07 - val_accuracy: 1.0000\n",
      "Epoch 18/30\n",
      "68/68 [==============================] - 14s 209ms/step - loss: 0.1151 - accuracy: 0.9894 - val_loss: 0.1134 - val_accuracy: 0.9475\n",
      "Epoch 19/30\n",
      "68/68 [==============================] - 15s 213ms/step - loss: 0.0020 - accuracy: 0.9995 - val_loss: 1.0813e-05 - val_accuracy: 1.0000\n",
      "Epoch 20/30\n",
      "68/68 [==============================] - 14s 210ms/step - loss: 0.1101 - accuracy: 0.9894 - val_loss: 1.3605e-04 - val_accuracy: 1.0000\n",
      "Epoch 21/30\n",
      "68/68 [==============================] - 16s 230ms/step - loss: 2.0762e-05 - accuracy: 1.0000 - val_loss: 1.2683e-05 - val_accuracy: 1.0000\n",
      "Epoch 22/30\n",
      "68/68 [==============================] - 16s 230ms/step - loss: 0.1777 - accuracy: 0.9834 - val_loss: 1.2805e-04 - val_accuracy: 1.0000\n",
      "Epoch 23/30\n",
      "68/68 [==============================] - 16s 230ms/step - loss: 3.6275e-05 - accuracy: 1.0000 - val_loss: 7.7742e-06 - val_accuracy: 1.0000\n",
      "Epoch 24/30\n",
      "68/68 [==============================] - 16s 236ms/step - loss: 1.1653e-06 - accuracy: 1.0000 - val_loss: 1.1677e-07 - val_accuracy: 1.0000\n",
      "Epoch 25/30\n",
      "68/68 [==============================] - 16s 243ms/step - loss: 1.1312e-07 - accuracy: 1.0000 - val_loss: 6.1055e-10 - val_accuracy: 1.0000\n",
      "Epoch 26/30\n",
      "68/68 [==============================] - 17s 244ms/step - loss: 0.2167 - accuracy: 0.9899 - val_loss: 5.6809e-05 - val_accuracy: 1.0000\n",
      "Epoch 27/30\n",
      "68/68 [==============================] - 16s 234ms/step - loss: 1.3845e-05 - accuracy: 1.0000 - val_loss: 2.3362e-06 - val_accuracy: 1.0000\n",
      "Epoch 28/30\n",
      "68/68 [==============================] - 15s 220ms/step - loss: 0.1762 - accuracy: 0.9853 - val_loss: 0.0017 - val_accuracy: 1.0000\n",
      "Epoch 29/30\n",
      "68/68 [==============================] - 17s 251ms/step - loss: 2.5605e-04 - accuracy: 1.0000 - val_loss: 6.8814e-06 - val_accuracy: 1.0000\n",
      "Epoch 30/30\n",
      "68/68 [==============================] - 16s 232ms/step - loss: 2.9404e-06 - accuracy: 1.0000 - val_loss: 2.7276e-07 - val_accuracy: 1.0000\n"
     ]
    },
    {
     "data": {
      "text/plain": [
       "<tensorflow.python.keras.callbacks.History at 0x19670300880>"
      ]
     },
     "execution_count": 14,
     "metadata": {},
     "output_type": "execute_result"
    }
   ],
   "source": [
    "cnn.fit(x = training_set , validation_data = test_set , epochs = 30)"
   ]
  },
  {
   "cell_type": "code",
   "execution_count": 40,
   "id": "c9bc7b08",
   "metadata": {},
   "outputs": [
    {
     "data": {
      "text/plain": [
       "{'Avocado': 0, 'Blueberry': 1, 'Kiwi': 2, 'Peach': 3, 'Pear': 4}"
      ]
     },
     "execution_count": 40,
     "metadata": {},
     "output_type": "execute_result"
    }
   ],
   "source": [
    "from tensorflow.keras.preprocessing import image\n",
    "test_image = image.load_img('Prediction/predict_blueberry.jpg',target_size=(64,64))\n",
    "test_image = image.img_to_array(test_image)\n",
    "test_image = np.expand_dims(test_image,axis=0)\n",
    "result = cnn.predict(test_image)\n",
    "training_set.class_indices"
   ]
  },
  {
   "cell_type": "code",
   "execution_count": 41,
   "id": "8ed17aaf",
   "metadata": {},
   "outputs": [
    {
     "name": "stdout",
     "output_type": "stream",
     "text": [
      "Blueberry\n"
     ]
    }
   ],
   "source": [
    "if result[0][0]==1:\n",
    "    print('Avocado')\n",
    "elif result[0][1]==1:\n",
    "    print('Blueberry')\n",
    "elif result[0][2]==1:\n",
    "    print('Kiwi')\n",
    "elif result[0][3]==1:\n",
    "    print('Peach')\n",
    "elif result[0][4]==1:\n",
    "    print(\"Pear\")\n"
   ]
  },
  {
   "cell_type": "code",
   "execution_count": 42,
   "id": "deec8311",
   "metadata": {},
   "outputs": [
    {
     "name": "stdout",
     "output_type": "stream",
     "text": [
      "[[0. 1. 0. 0. 0.]]\n"
     ]
    }
   ],
   "source": [
    "print(result)"
   ]
  },
  {
   "cell_type": "code",
   "execution_count": null,
   "id": "b36f657e",
   "metadata": {},
   "outputs": [],
   "source": []
  }
 ],
 "metadata": {
  "kernelspec": {
   "display_name": "Python 3",
   "language": "python",
   "name": "python3"
  },
  "language_info": {
   "codemirror_mode": {
    "name": "ipython",
    "version": 3
   },
   "file_extension": ".py",
   "mimetype": "text/x-python",
   "name": "python",
   "nbconvert_exporter": "python",
   "pygments_lexer": "ipython3",
   "version": "3.8.8"
  }
 },
 "nbformat": 4,
 "nbformat_minor": 5
}
